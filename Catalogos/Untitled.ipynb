{
 "cells": [
  {
   "cell_type": "code",
   "execution_count": 2,
   "id": "0c232709-cd70-4f76-a9dd-40b9b707471f",
   "metadata": {
    "kernel": "SoS"
   },
   "outputs": [
    {
     "name": "stdout",
     "output_type": "stream",
     "text": [
      "Hola\n"
     ]
    }
   ],
   "source": [
    "print(\"Hola\")"
   ]
  },
  {
   "cell_type": "code",
   "execution_count": 5,
   "id": "5f14137b-bcd0-4428-b844-1d8234b931cd",
   "metadata": {
    "kernel": "Octave"
   },
   "outputs": [
    {
     "ename": "RuntimeError",
     "evalue": "Failed to start kernel \"Octave\". This event loop is already running\nError Message:\n/usr/local/libexec/octave/7.2.0/exec/x86_64-pc-linux-gnu/octave-gui: invalid option -- 'm'\n\nusage: octave [-HVWdfhiqvx] [--debug] [--doc-cache-file file] [--echo-commands]\n       [--eval CODE] [--exec-path path] [--experimental-terminal-widget]\n       [--gui] [--help] [--image-path path] [--info-file file]\n       [--info-program prog] [--interactive] [--line-editing] [--no-gui]\n       [--no-history] [--no-init-file] [--no-init-path] [--no-line-editing]\n       [--no-site-file] [--no-window-system] [--norc] [-p path]\n       [--path path] [--persist] [--server] [--silent] [--traditional]\n       [--verbose] [--version] [file]\n\n",
     "execution_count": 5,
     "output_type": "error",
     "status": "error",
     "traceback": [
      "\u001b[91mFailed to start kernel \"Octave\". This event loop is already running\nError Message:\n/usr/local/libexec/octave/7.2.0/exec/x86_64-pc-linux-gnu/octave-gui: invalid option -- 'm'\n\nusage: octave [-HVWdfhiqvx] [--debug] [--doc-cache-file file] [--echo-commands]\n       [--eval CODE] [--exec-path path] [--experimental-terminal-widget]\n       [--gui] [--help] [--image-path path] [--info-file file]\n       [--info-program prog] [--interactive] [--line-editing] [--no-gui]\n       [--no-history] [--no-init-file] [--no-init-path] [--no-line-editing]\n       [--no-site-file] [--no-window-system] [--norc] [-p path]\n       [--path path] [--persist] [--server] [--silent] [--traditional]\n       [--verbose] [--version] [file]\n\n\u001b[0m"
     ]
    }
   ],
   "source": [
    "A = imread(\"imagen1.jpg\");\n",
    "\n",
    "imshow(A)"
   ]
  },
  {
   "cell_type": "code",
   "execution_count": 2,
   "id": "315965fb-237e-488e-9cf4-e134afaf17ff",
   "metadata": {
    "kernel": "Bash"
   },
   "outputs": [
    {
     "name": "stdout",
     "output_type": "stream",
     "text": [
      "camarografo.jpg  imagen1.jpg  imagen3.jpg  tareas_cortas_bloque1.ipynb\n",
      "Catálogo1.ipynb  imagen2.jpg  imagen4.jpg  Untitled.ipynb\n"
     ]
    }
   ],
   "source": [
    "!ls"
   ]
  }
 ],
 "metadata": {
  "kernelspec": {
   "display_name": "SoS",
   "language": "sos",
   "name": "sos"
  },
  "language_info": {
   "codemirror_mode": "sos",
   "file_extension": ".sos",
   "mimetype": "text/x-sos",
   "name": "sos",
   "nbconvert_exporter": "sos_notebook.converter.SoS_Exporter",
   "pygments_lexer": "sos"
  },
  "sos": {
   "kernels": [
    [
     "Bash",
     "calysto_bash",
     "Bash",
     "#E6EEFF",
     ""
    ],
    [
     "Octave",
     "octave",
     "Octave",
     "#dff8fb",
     ""
    ],
    [
     "SoS",
     "sos",
     "",
     "",
     "sos"
    ]
   ],
   "version": ""
  }
 },
 "nbformat": 4,
 "nbformat_minor": 5
}
